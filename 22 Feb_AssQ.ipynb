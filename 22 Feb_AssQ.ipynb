{
 "cells": [
  {
   "cell_type": "code",
   "execution_count": 11,
   "id": "de283d7c-4f56-44b8-968a-95f9eeb797f2",
   "metadata": {},
   "outputs": [],
   "source": [
    "import pandas as pd"
   ]
  },
  {
   "cell_type": "markdown",
   "id": "b8cc7ff2-e9a2-488f-8047-a03b836bda46",
   "metadata": {},
   "source": [
    "Q1. Create a Pandas Series that contains the following data: 4, 8, 15, 16, 23, and 42. Then, print the series"
   ]
  },
  {
   "cell_type": "code",
   "execution_count": 12,
   "id": "34c4e68b-bf59-4112-a0a8-28b13e6349a3",
   "metadata": {},
   "outputs": [
    {
     "name": "stdout",
     "output_type": "stream",
     "text": [
      "0     4\n",
      "1     8\n",
      "2    15\n",
      "3    16\n",
      "4    23\n",
      "5    42\n",
      "dtype: int64\n"
     ]
    }
   ],
   "source": [
    "ser = pd.Series((4,8,15,16,23,42))\n",
    "print(ser)"
   ]
  },
  {
   "cell_type": "markdown",
   "id": "0176c81a-1281-44db-9b92-d4dd961ef205",
   "metadata": {},
   "source": [
    "Q2. Create a variable of list type containing 10 elements in it, and apply pandas.Series function on the\n",
    "variable print it."
   ]
  },
  {
   "cell_type": "code",
   "execution_count": 13,
   "id": "086922c2-91d9-4a11-abdf-d3bdbc575655",
   "metadata": {},
   "outputs": [
    {
     "name": "stdout",
     "output_type": "stream",
     "text": [
      "0    1\n",
      "1    2\n",
      "2    3\n",
      "3    4\n",
      "4    5\n",
      "5    a\n",
      "6    b\n",
      "7    c\n",
      "8    d\n",
      "9    e\n",
      "dtype: object\n"
     ]
    }
   ],
   "source": [
    "var = [1,2,3,4,5,'a','b','c','d','e']\n",
    "s = pd.Series(var)\n",
    "print(s)"
   ]
  },
  {
   "cell_type": "markdown",
   "id": "bd5da470-47c3-41ad-9d80-c244c4caa622",
   "metadata": {},
   "source": [
    "Q3. Create a Pandas DataFrame that contains the following data Then, print the DataFrame:"
   ]
  },
  {
   "cell_type": "markdown",
   "id": "e270b510-0e98-4dea-b7da-6e387489ffd4",
   "metadata": {},
   "source": [
    "Name\n",
    "Alice\n",
    "Bob\n",
    "Claire\n",
    "Age\n",
    "25\n",
    "30\n",
    "27\n",
    "Gender\n",
    "Female\n",
    "Male\n",
    "Female"
   ]
  },
  {
   "cell_type": "code",
   "execution_count": 14,
   "id": "39d5a90a-b1ea-4a6a-a81a-442ac9fcf2f3",
   "metadata": {},
   "outputs": [
    {
     "name": "stdout",
     "output_type": "stream",
     "text": [
      "     Name  Age  Gender\n",
      "0   Alice   25  Female\n",
      "1     Bob   30    Male\n",
      "2  Claire   27  Female\n"
     ]
    }
   ],
   "source": [
    "df = pd.DataFrame({'Name': ['Alice', 'Bob', 'Claire'],\n",
    "                    'Age': [25, 30, 27],\n",
    "                    'Gender': ['Female', 'Male', 'Female']}\n",
    "                  )\n",
    "print(df)"
   ]
  },
  {
   "cell_type": "markdown",
   "id": "730267d3-7668-48b4-9f0b-073c7a002809",
   "metadata": {},
   "source": [
    "Q4. What is ‘DataFrame’ in pandas and how is it different from pandas.series? Explain with an example."
   ]
  },
  {
   "cell_type": "raw",
   "id": "798e4649-3bdc-4ee6-a4f8-03d724628fa1",
   "metadata": {},
   "source": [
    "DateFrame: DateFrame is a two dimensional tabular data structure, it's like an excel sheet that contains rows and columns. Each column can store different types of data, like numbers, text etc. we use dataframes for data manipulation.\n",
    "Series: Series is like a single column in dataframe. its a one dimensional list of labeled data that can hold any kind of information\n",
    "\n",
    "Examples:\n",
    "Dataframe:\n",
    "df = pd.DataFrame({'Name': ['Alice', 'Bob', 'Claire'],\n",
    "                    'Age': [25, 30, 27],\n",
    "                    'Gender': ['Female', 'Male', 'Female']}\n",
    "                  )\n",
    "print(df)\n",
    "\n",
    "Series:\n",
    "s = pd.Series({'Name': ['Alice', 'Bob', 'Claire']})\n",
    "print(s)"
   ]
  },
  {
   "cell_type": "markdown",
   "id": "3de2d580-a4aa-4bb4-85da-b460434aa5b6",
   "metadata": {},
   "source": [
    "Q5. What are some common functions you can use to manipulate data in a Pandas DataFrame? Can\n",
    "you give an example of when you might use one of these functions?"
   ]
  },
  {
   "cell_type": "raw",
   "id": "0413d48c-17cf-41d4-a82f-8ef149dbef40",
   "metadata": {},
   "source": [
    "some of the common functions we can use to manipulate data are head(), tail(), describe(), sort_values(), drop(), dropna(), fillna(), groupby() etc\n",
    "For example, if you have a DataFrame with a 'Sales' column, you can use groupby() to group data by 'Month' and then apply sum() to calculate the total sales for each month. This will give monthly sales data."
   ]
  },
  {
   "cell_type": "markdown",
   "id": "5d2b07a4-d415-4a53-9b7e-32aa92d18683",
   "metadata": {},
   "source": [
    "Q6. Which of the following is mutable in nature Series, DataFrame, Panel?"
   ]
  },
  {
   "cell_type": "raw",
   "id": "cf60b48d-4eb1-4deb-a020-3ce178754f4c",
   "metadata": {},
   "source": [
    "Series, DataFrame and Panel, all three are mutable in nature"
   ]
  },
  {
   "cell_type": "markdown",
   "id": "f54b5806-bdea-4ddc-af6e-c129b3b74757",
   "metadata": {},
   "source": [
    "Q7. Create a DataFrame using multiple Series. Explain with an example."
   ]
  },
  {
   "cell_type": "code",
   "execution_count": 15,
   "id": "65a05e6e-63f5-4073-a7ee-665fa5fa44c8",
   "metadata": {},
   "outputs": [
    {
     "name": "stdout",
     "output_type": "stream",
     "text": [
      "     Name  Age  Gender\n",
      "0   Alice   25  Female\n",
      "1     Bob   30    Male\n",
      "2  Claire   27  Female\n"
     ]
    }
   ],
   "source": [
    "df = pd.DataFrame({'Name': ['Alice', 'Bob', 'Claire'],\n",
    "                    'Age': [25, 30, 27],\n",
    "                    'Gender': ['Female', 'Male', 'Female']}\n",
    "                  )\n",
    "print(df)"
   ]
  },
  {
   "cell_type": "code",
   "execution_count": null,
   "id": "04336125-c8cb-4acf-9aa1-e578a7b736cd",
   "metadata": {},
   "outputs": [],
   "source": []
  }
 ],
 "metadata": {
  "kernelspec": {
   "display_name": "Python 3 (ipykernel)",
   "language": "python",
   "name": "python3"
  },
  "language_info": {
   "codemirror_mode": {
    "name": "ipython",
    "version": 3
   },
   "file_extension": ".py",
   "mimetype": "text/x-python",
   "name": "python",
   "nbconvert_exporter": "python",
   "pygments_lexer": "ipython3",
   "version": "3.10.8"
  }
 },
 "nbformat": 4,
 "nbformat_minor": 5
}
